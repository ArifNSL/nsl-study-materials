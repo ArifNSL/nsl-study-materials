{
 "cells": [
  {
   "cell_type": "markdown",
   "id": "b5b19872",
   "metadata": {},
   "source": [
    "# Regression\n",
    "\n",
    "**Regression** is a statistical method used in finance, investing, and other disciplines that attempts to determine the strength and character of the relationship between one dependent variable (usually denoted by Y) and a series of other variables (known as independent variables).\n",
    "\n",
    "**Correlation** is a statistical measure that expresses the extent to which two variables are linearly related (meaning they change together at a constant rate).\n",
    "\n",
    "***If there's no correlation there can't be any Regression then***"
   ]
  },
  {
   "cell_type": "markdown",
   "id": "2ecdec9b",
   "metadata": {},
   "source": [
    "# **Simple Linear Regression**\n",
    "\n",
    "Consider the model function\n",
    "\n",
    "***y = α + βx***\n",
    "or \n",
    "***y = mx +c***\n",
    "\n",
    "which describes a line with slope β and y-intercept α. In general such a relationship may not hold exactly for the largely unobserved population of values of the independent and dependent variables; we call the unobserved deviations from the above equation the errors.\n",
    "\n",
    "<img src=\"https://upload.wikimedia.org/wikipedia/commons/thumb/3/3a/Linear_regression.svg/1280px-Linear_regression.svg.png\">\n",
    "\n",
    "\n",
    "Here on obvoius fact, y is a dependent variable and x is an independant variable."
   ]
  },
  {
   "cell_type": "markdown",
   "id": "679d5c20",
   "metadata": {},
   "source": [
    "## Residual\n",
    "\n",
    "***residual = actualvalue - estimatedvalue***\n",
    "\n",
    "or\n",
    "\n",
    "***e = y - ŷ***\n",
    "\n",
    "Residual is the difference between actual value and estimated value."
   ]
  },
  {
   "cell_type": "markdown",
   "id": "13619d0f",
   "metadata": {},
   "source": [
    "## Applications:\n",
    "- Evaluating Trends and Sales Estimates\n",
    "- Analyzing the Impact of Price Changes\n",
    "- Assessment of risk in financial services and insurance domain"
   ]
  },
  {
   "attachments": {
    "image.png": {
     "image/png": "[encoded data removed]"
    }
   },
   "cell_type": "markdown",
   "id": "d63c549d",
   "metadata": {},
   "source": [
    "## Simple Linear Regression Algorithm\n",
    "Mathematical Intuition\n",
    "\n",
    "![image.png](attachment:image.png)"
   ]
  },
  {
   "cell_type": "markdown",
   "id": "b62334a2",
   "metadata": {},
   "source": [
    "## Getting Started"
   ]
  },
  {
   "cell_type": "code",
   "execution_count": 1,
   "id": "88f57fcd",
   "metadata": {},
   "outputs": [
    {
     "name": "stderr",
     "output_type": "stream",
     "text": [
      "/home/nsl54/anaconda3/envs/mlenv/lib/python3.7/importlib/_bootstrap.py:219: RuntimeWarning: numpy.ufunc size changed, may indicate binary incompatibility. Expected 192 from C header, got 216 from PyObject\n",
      "  return f(*args, **kwds)\n"
     ]
    }
   ],
   "source": [
    "import numpy as np\n",
    "import pandas as pd\n",
    "import matplotlib.pyplot as plt\n",
    "from sklearn.linear_model import LinearRegression\n",
    "from sklearn.metrics import mean_squared_error\n",
    "import math"
   ]
  },
  {
   "cell_type": "markdown",
   "id": "788a7954",
   "metadata": {},
   "source": [
    "## DataFraming"
   ]
  },
  {
   "cell_type": "code",
   "execution_count": 2,
   "id": "5aca6f2b",
   "metadata": {},
   "outputs": [
    {
     "data": {
      "text/html": [
       "<div>\n",
       "<style scoped>\n",
       "    .dataframe tbody tr th:only-of-type {\n",
       "        vertical-align: middle;\n",
       "    }\n",
       "\n",
       "    .dataframe tbody tr th {\n",
       "        vertical-align: top;\n",
       "    }\n",
       "\n",
       "    .dataframe thead th {\n",
       "        text-align: right;\n",
       "    }\n",
       "</style>\n",
       "<table border=\"1\" class=\"dataframe\">\n",
       "  <thead>\n",
       "    <tr style=\"text-align: right;\">\n",
       "      <th></th>\n",
       "      <th>Gender</th>\n",
       "      <th>Age Range</th>\n",
       "      <th>Head Size(cm^3)</th>\n",
       "      <th>Brain Weight(grams)</th>\n",
       "    </tr>\n",
       "  </thead>\n",
       "  <tbody>\n",
       "    <tr>\n",
       "      <th>0</th>\n",
       "      <td>1</td>\n",
       "      <td>1</td>\n",
       "      <td>4512</td>\n",
       "      <td>1530</td>\n",
       "    </tr>\n",
       "    <tr>\n",
       "      <th>1</th>\n",
       "      <td>1</td>\n",
       "      <td>1</td>\n",
       "      <td>3738</td>\n",
       "      <td>1297</td>\n",
       "    </tr>\n",
       "    <tr>\n",
       "      <th>2</th>\n",
       "      <td>1</td>\n",
       "      <td>1</td>\n",
       "      <td>4261</td>\n",
       "      <td>1335</td>\n",
       "    </tr>\n",
       "    <tr>\n",
       "      <th>3</th>\n",
       "      <td>1</td>\n",
       "      <td>1</td>\n",
       "      <td>3777</td>\n",
       "      <td>1282</td>\n",
       "    </tr>\n",
       "    <tr>\n",
       "      <th>4</th>\n",
       "      <td>1</td>\n",
       "      <td>1</td>\n",
       "      <td>4177</td>\n",
       "      <td>1590</td>\n",
       "    </tr>\n",
       "  </tbody>\n",
       "</table>\n",
       "</div>"
      ],
      "text/plain": [
       "   Gender  Age Range  Head Size(cm^3)  Brain Weight(grams)\n",
       "0       1          1             4512                 1530\n",
       "1       1          1             3738                 1297\n",
       "2       1          1             4261                 1335\n",
       "3       1          1             3777                 1282\n",
       "4       1          1             4177                 1590"
      ]
     },
     "execution_count": 2,
     "metadata": {},
     "output_type": "execute_result"
    }
   ],
   "source": [
    "dataset = pd.read_csv('headbrain.csv')\n",
    "dataset.head()"
   ]
  },
  {
   "cell_type": "code",
   "execution_count": 3,
   "id": "5a3c5285",
   "metadata": {},
   "outputs": [
    {
     "name": "stdout",
     "output_type": "stream",
     "text": [
      "0      4512\n",
      "1      3738\n",
      "2      4261\n",
      "3      3777\n",
      "4      4177\n",
      "       ... \n",
      "232    3214\n",
      "233    3394\n",
      "234    3233\n",
      "235    3352\n",
      "236    3391\n",
      "Name: Head Size(cm^3), Length: 237, dtype: int64\n",
      "0      1530\n",
      "1      1297\n",
      "2      1335\n",
      "3      1282\n",
      "4      1590\n",
      "       ... \n",
      "232    1110\n",
      "233    1215\n",
      "234    1104\n",
      "235    1170\n",
      "236    1120\n",
      "Name: Brain Weight(grams), Length: 237, dtype: int64\n"
     ]
    }
   ],
   "source": [
    "size = dataset['Head Size(cm^3)']\n",
    "weight = dataset['Brain Weight(grams)']\n",
    "\n",
    "print(size)\n",
    "print(weight)"
   ]
  },
  {
   "cell_type": "markdown",
   "id": "75c70f8c",
   "metadata": {},
   "source": [
    "## Visualizing"
   ]
  },
  {
   "cell_type": "code",
   "execution_count": 4,
   "id": "672937b1",
   "metadata": {},
   "outputs": [
    {
     "data": {
      "image/png": "[encoded data removed]",
      "text/plain": [
       "<Figure size 432x288 with 1 Axes>"
      ]
     },
     "metadata": {
      "needs_background": "light"
     },
     "output_type": "display_data"
    }
   ],
   "source": [
    "plt.scatter(size, weight)\n",
    "plt.show()"
   ]
  },
  {
   "cell_type": "markdown",
   "id": "4289ba65",
   "metadata": {},
   "source": [
    "## Convert DataFrames into NumPy Arrays"
   ]
  },
  {
   "cell_type": "code",
   "execution_count": 5,
   "id": "eed6a792",
   "metadata": {},
   "outputs": [],
   "source": [
    "x = np.array(size).reshape(-1, 1)\n",
    "y = np.array(weight).reshape(-1, 1)"
   ]
  },
  {
   "cell_type": "markdown",
   "id": "866ea947",
   "metadata": {},
   "source": [
    "## Training the Model"
   ]
  },
  {
   "cell_type": "code",
   "execution_count": 6,
   "id": "e4443f17",
   "metadata": {},
   "outputs": [
    {
     "data": {
      "text/plain": [
       "LinearRegression()"
      ]
     },
     "execution_count": 6,
     "metadata": {},
     "output_type": "execute_result"
    }
   ],
   "source": [
    "model = LinearRegression()\n",
    "model.fit(x, y)"
   ]
  },
  {
   "cell_type": "markdown",
   "id": "2d3b5e76",
   "metadata": {},
   "source": [
    "## **Mean Sqaured Error & R - Squared Value**\n",
    "\n",
    "The **mean squared error** or mean squared deviation of an estimator measures the average of the squares of the errors—that is, the average squared difference between the estimated values and the actual value. MSE is a risk function, corresponding to the expected value of the squared error loss.\n",
    "\n",
    "The **coefficient of determination**, denoted R² or r² and pronounced \"R squared\", is the proportion of the variance in the dependent variable that is predictable from the independent variable.\n",
    "\n",
    "<img src=\"https://miro.medium.com/max/1432/1*w3MdmyJ2bgnezao1liJcDA.png\">"
   ]
  },
  {
   "cell_type": "code",
   "execution_count": 15,
   "id": "22ed9166",
   "metadata": {},
   "outputs": [
    {
     "name": "stdout",
     "output_type": "stream",
     "text": [
      "Mean Squared Error:\t 2367.495611943946\n",
      "R Squared value:\t 0.639311719957\n"
     ]
    }
   ],
   "source": [
    "regression_model_mse = mean_squared_error(x, y)\n",
    "print(\"Mean Squared Error:\\t\", math.sqrt(regression_model_mse))\n",
    "print(\"R Squared value:\\t\", model.score(x, y))"
   ]
  },
  {
   "cell_type": "code",
   "execution_count": 11,
   "id": "64710f9c",
   "metadata": {},
   "outputs": [
    {
     "name": "stdout",
     "output_type": "stream",
     "text": [
      "[0.26342934]\n",
      "325.5734210494426\n"
     ]
    }
   ],
   "source": [
    "print(model.coef_[0])\n",
    "print(model.intercept_[0])"
   ]
  },
  {
   "cell_type": "markdown",
   "id": "db8a4182",
   "metadata": {},
   "source": [
    "## Visualization"
   ]
  },
  {
   "cell_type": "code",
   "execution_count": 13,
   "id": "8e1aeb9c",
   "metadata": {},
   "outputs": [
    {
     "data": {
      "text/plain": [
       "Text(0, 0.5, 'Brain Weight')"
      ]
     },
     "execution_count": 13,
     "metadata": {},
     "output_type": "execute_result"
    },
    {
     "data": {
      "image/png": "[encoded data removed]",
      "text/plain": [
       "<Figure size 432x288 with 1 Axes>"
      ]
     },
     "metadata": {
      "needs_background": "light"
     },
     "output_type": "display_data"
    }
   ],
   "source": [
    "plt.scatter(x, y, color='red')\n",
    "plt.plot(x, model.predict(x), color='blue')\n",
    "plt.title('Linear Regression', color='white')\n",
    "plt.xlabel('Head Size', color='white')\n",
    "plt.ylabel('Brain Weight', color='white')"
   ]
  },
  {
   "cell_type": "markdown",
   "id": "a7263652",
   "metadata": {},
   "source": [
    "## Prediction"
   ]
  },
  {
   "cell_type": "code",
   "execution_count": 14,
   "id": "f04fe07d",
   "metadata": {},
   "outputs": [
    {
     "name": "stdout",
     "output_type": "stream",
     "text": [
      "Prediction by the model:\t [[852.43210003]]\n"
     ]
    }
   ],
   "source": [
    "print('Prediction by the model:\\t', model.predict([[2000]]))"
   ]
  }
 ],
 "metadata": {
  "kernelspec": {
   "display_name": "mlenv",
   "language": "python",
   "name": "mlenv"
  },
  "language_info": {
   "codemirror_mode": {
    "name": "ipython",
    "version": 3
   },
   "file_extension": ".py",
   "mimetype": "text/x-python",
   "name": "python",
   "nbconvert_exporter": "python",
   "pygments_lexer": "ipython3",
   "version": "3.7.0"
  }
 },
 "nbformat": 4,
 "nbformat_minor": 5
}
