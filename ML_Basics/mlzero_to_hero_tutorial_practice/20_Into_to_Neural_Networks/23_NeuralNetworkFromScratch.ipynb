{
 "cells": [
  {
   "cell_type": "markdown",
   "id": "efa61cd7",
   "metadata": {},
   "source": [
    "# Neural Network from Scratch\n",
    "\n",
    "The simplest equation of a sample layer:\n",
    "***y = w1x1 + w2x2 + w3x3 + ... + wnxxn + b***;\n",
    "<br><br>\n",
    "b = bias"
   ]
  },
  {
   "cell_type": "markdown",
   "id": "26983c0e",
   "metadata": {},
   "source": [
    "#### Basic neuron with 3 inputs"
   ]
  },
  {
   "cell_type": "code",
   "execution_count": 2,
   "id": "5390d61b",
   "metadata": {},
   "outputs": [
    {
     "name": "stdout",
     "output_type": "stream",
     "text": [
      "35.7\n"
     ]
    }
   ],
   "source": [
    "# Assuming Values\n",
    "\n",
    "inputs = [1.2, 5.1, 2.1]  # Input Layer with 3 units or Neuron\n",
    "weights = [3.1, 2.1, 8.7] # Weights of Vectors\n",
    "bias = 3.0                #Bias\n",
    "\n",
    "# Implementing the equation in code\n",
    "\n",
    "output = inputs[0]*weights[0] + inputs[1]*weights[1] + inputs[2]*weights[2] + bias\n",
    "\n",
    "# By printing this we are getting to know that, what output this layer will generate\n",
    "print(output)"
   ]
  },
  {
   "cell_type": "markdown",
   "id": "039296d8",
   "metadata": {},
   "source": [
    "#### a simple layer of neurons, with 4 inputs & 3 hidden layers"
   ]
  },
  {
   "cell_type": "code",
   "execution_count": 3,
   "id": "5e94b8ec",
   "metadata": {},
   "outputs": [
    {
     "name": "stdout",
     "output_type": "stream",
     "text": [
      "[4.8, 1.21, 2.385]\n"
     ]
    }
   ],
   "source": [
    "inputs = [1.0, 2.0, 3.0, 2.5]  # Input Layer with 4 units or Neurons\n",
    "\n",
    "weights1 = [ 0.2, 0.8, -0.5, 1.0]\n",
    "\n",
    "weights2 = [0.5, -0.91, 0.26, -0.5]\n",
    "\n",
    "weights3 = [-0.26, -0.27, 0.17, 0.87]\n",
    "\n",
    "bias1 = 2.0\n",
    "bias2 = 3.0\n",
    "bias3 = 0.5\n",
    "\n",
    "output = [inputs[0]*weights1[0] + inputs[1]*weights1[1] + inputs[2]*weights1[2] + inputs[3]*weights1[3] + bias1,\n",
    "          inputs[0]*weights2[0] + inputs[1]*weights2[1] + inputs[2]*weights2[2] + inputs[3]*weights2[3] + bias2,\n",
    "          inputs[0]*weights3[0] + inputs[1]*weights3[1] + inputs[2]*weights3[2] + inputs[3]*weights3[3] + bias3]\n",
    "\n",
    "print(output)"
   ]
  },
  {
   "cell_type": "markdown",
   "id": "7338bd16",
   "metadata": {},
   "source": [
    "#### Doing dot product with a layer of neurons and multiple inputs"
   ]
  },
  {
   "cell_type": "code",
   "execution_count": 4,
   "id": "f332802c",
   "metadata": {},
   "outputs": [
    {
     "name": "stdout",
     "output_type": "stream",
     "text": [
      "[4.8   1.21  2.385]\n"
     ]
    }
   ],
   "source": [
    "import numpy as np\n",
    "\n",
    "inputs = [1.0, 2.0, 3.0, 2.5]\n",
    "weights = [[0.2, 0.8, -0.5, 1.0],\n",
    "          [0.5, -0.91, 0.26, -0.5],\n",
    "          [-0.26, -0.27, 0.17, 0.87]]\n",
    "\n",
    "biases = [2.0, 3.0, 0.5]\n",
    "\n",
    "output = np.dot(weights, inputs) + biases\n",
    "print(output)"
   ]
  },
  {
   "cell_type": "markdown",
   "id": "0d534b62",
   "metadata": {},
   "source": [
    "#### Layers and Objects"
   ]
  },
  {
   "cell_type": "code",
   "execution_count": 10,
   "id": "1c5dc1d1",
   "metadata": {},
   "outputs": [
    {
     "name": "stdout",
     "output_type": "stream",
     "text": [
      "Layer 01\n",
      " [[ 0.44336001  0.32275945  0.61719927  0.71943905  0.35786764]\n",
      " [ 0.37096311  0.31298567  0.67615869  0.6538797   0.44335054]\n",
      " [ 0.3463683   0.18378799  0.27120932  0.42165082 -0.00617808]]\n",
      "\n",
      "Layer 02\n",
      " [[0.09457125 0.18292227]\n",
      " [0.09125376 0.17749814]\n",
      " [0.05130749 0.09895662]]\n"
     ]
    }
   ],
   "source": [
    "np.random.seed(0)\n",
    "\n",
    "x = [[1, 2, 3, 2.5],\n",
    "    [2.0, 5.0, -1.0, 2.0],\n",
    "    [-1.5, 2.7, 3.3, -0.8]]\n",
    "\n",
    "class Layer_Dense:\n",
    "    def __init__(self, n_inputs, n_neurons):\n",
    "        self.weights = 0.10 * np.random.rand(n_inputs, n_neurons)\n",
    "        self.biases = np.zeros((1, n_neurons))\n",
    "    def forward(self, inputs):\n",
    "        self.output = np.dot(inputs, self.weights) + self.biases\n",
    "        \n",
    "layer1 = Layer_Dense(4, 5)\n",
    "layer2 = Layer_Dense(5, 2)\n",
    "\n",
    "layer1.forward(x)\n",
    "print('Layer 01\\n', layer1.output)\n",
    "\n",
    "layer2.forward(layer1.output)\n",
    "print(\"\\nLayer 02\\n\", layer2.output)"
   ]
  },
  {
   "cell_type": "code",
   "execution_count": null,
   "id": "eb8fe630",
   "metadata": {},
   "outputs": [],
   "source": []
  }
 ],
 "metadata": {
  "kernelspec": {
   "display_name": "mlenv",
   "language": "python",
   "name": "mlenv"
  },
  "language_info": {
   "codemirror_mode": {
    "name": "ipython",
    "version": 3
   },
   "file_extension": ".py",
   "mimetype": "text/x-python",
   "name": "python",
   "nbconvert_exporter": "python",
   "pygments_lexer": "ipython3",
   "version": "3.7.0"
  }
 },
 "nbformat": 4,
 "nbformat_minor": 5
}
